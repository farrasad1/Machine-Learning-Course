{
  "nbformat": 4,
  "nbformat_minor": 0,
  "metadata": {
    "colab": {
      "name": "code1.ipynb",
      "provenance": [],
      "collapsed_sections": []
    },
    "kernelspec": {
      "name": "python3",
      "display_name": "Python 3"
    },
    "language_info": {
      "name": "python"
    },
    "accelerator": "GPU"
  },
  "cells": [
    {
      "cell_type": "markdown",
      "source": [
        "Train Data using 3 epoch"
      ],
      "metadata": {
        "id": "BUTA8KEGEKdV"
      }
    },
    {
      "cell_type": "code",
      "source": [
        "!python3 code/train.py --seed=0 --trial=1 --kernel_size=5 --epochs 3"
      ],
      "metadata": {
        "colab": {
          "base_uri": "https://localhost:8080/"
        },
        "id": "RG3NfsFON-An",
        "outputId": "09b1e09a-2ad5-4bd6-f334-416eb944f54b"
      },
      "execution_count": 1,
      "outputs": [
        {
          "output_type": "stream",
          "name": "stdout",
          "text": [
            "----------------------------------------------------------------\n",
            "        Layer (type)               Output Shape         Param #\n",
            "================================================================\n",
            "            Conv2d-1           [-1, 32, 24, 24]             800\n",
            "       BatchNorm2d-2           [-1, 32, 24, 24]              64\n",
            "            Conv2d-3           [-1, 64, 20, 20]          51,200\n",
            "       BatchNorm2d-4           [-1, 64, 20, 20]             128\n",
            "            Conv2d-5           [-1, 96, 16, 16]         153,600\n",
            "       BatchNorm2d-6           [-1, 96, 16, 16]             192\n",
            "            Conv2d-7          [-1, 128, 12, 12]         307,200\n",
            "       BatchNorm2d-8          [-1, 128, 12, 12]             256\n",
            "            Conv2d-9            [-1, 160, 8, 8]         512,000\n",
            "      BatchNorm2d-10            [-1, 160, 8, 8]             320\n",
            "           Linear-11                   [-1, 10]         102,400\n",
            "      BatchNorm1d-12                   [-1, 10]              20\n",
            "================================================================\n",
            "Total params: 1,128,180\n",
            "Trainable params: 1,128,180\n",
            "Non-trainable params: 0\n",
            "----------------------------------------------------------------\n",
            "Input size (MB): 0.00\n",
            "Forward/backward pass size (MB): 1.48\n",
            "Params size (MB): 4.30\n",
            "Estimated Total Size (MB): 5.79\n",
            "----------------------------------------------------------------\n",
            "/usr/local/lib/python3.7/dist-packages/torchvision/transforms/functional.py:992: UserWarning: Argument interpolation should be of type InterpolationMode instead of int. Please, use InterpolationMode enum.\n",
            "  \"Argument interpolation should be of type InterpolationMode instead of int. \"\n",
            "Train Epoch: 0 [00000/60000 (0%)]\tLoss: 2.835055\n",
            "Train Epoch: 0 [12000/60000 (20%)]\tLoss: 0.677406\n",
            "Train Epoch: 0 [24000/60000 (40%)]\tLoss: 0.447411\n",
            "Train Epoch: 0 [36000/60000 (60%)]\tLoss: 0.381477\n",
            "Train Epoch: 1 [24000/60000 (40%)]\tLoss: 0.264489\n",
            "Train Epoch: 1 [36000/60000 (60%)]\tLoss: 0.151042\n",
            "Train Epoch: 1 [48000/60000 (80%)]\tLoss: 0.215020\n",
            "\n",
            "Test set: Average loss: 0.1412, Accuracy: 9835/10000 (98.35%) (best: 98.72%)\n",
            "\n",
            "Train Epoch: 2 [00000/60000 (0%)]\tLoss: 0.105091\n",
            "Train Epoch: 2 [12000/60000 (20%)]\tLoss: 0.102101\n",
            "Train Epoch: 2 [24000/60000 (40%)]\tLoss: 0.147225\n",
            "Train Epoch: 2 [36000/60000 (60%)]\tLoss: 0.156958\n",
            "Train Epoch: 2 [48000/60000 (80%)]\tLoss: 0.096310\n",
            "Best accuracy! correct images:  9936\n",
            "\n",
            "Test set: Average loss: 0.0507, Accuracy: 9936/10000 (99.36%) (best: 99.36%)\n",
            "\n"
          ]
        }
      ]
    },
    {
      "cell_type": "markdown",
      "source": [
        "Test Data"
      ],
      "metadata": {
        "id": "8bzIkWbGEa3t"
      }
    },
    {
      "cell_type": "code",
      "source": [
        "!python3 code/test.py  --seed=0 --trial=1 --kernel_size=5 --logdir=temp"
      ],
      "metadata": {
        "id": "M0vqRgUaS8J2"
      },
      "execution_count": 2,
      "outputs": []
    },
    {
      "cell_type": "code",
      "source": [
        "!python3 code/homo_ensemble.py --kernel_size=5"
      ],
      "metadata": {
        "colab": {
          "base_uri": "https://localhost:8080/"
        },
        "id": "-SHLMzHUTtO6",
        "outputId": "d7476481-aec2-4e39-d473-b1bb87a0c640"
      },
      "execution_count": 3,
      "outputs": [
        {
          "output_type": "stream",
          "name": "stdout",
          "text": [
            "   1   64    0    0\n",
            "   2   64    0    0\n",
            "   3   64    0    0\n",
            "   4   64    0    0\n",
            "   5   64    0    0\n",
            "   6   64    0    0\n",
            "   7   64    0    0\n",
            "   8   64    0    0\n",
            "   9   64    0    0\n",
            "  10   64    0    0\n",
            "  11   64    0    0\n",
            "  12   64    0    0\n",
            "  13   64    0    0\n",
            "  14   64    0    0\n",
            "  15   64    0    0\n",
            "  16   64    0    0\n",
            "  17   64    0    0\n",
            "  18   64    0    0\n",
            "  19   64    0    0\n",
            "  20   64    0    0\n",
            "  21   64    0    0\n",
            "  22   64    0    0\n",
            "  23   64    0    0\n",
            "  24   64    0    0\n",
            "  25   64    0    0\n",
            "  26   64    0    0\n",
            "  27   64    0    0\n",
            "  28   64    0    0\n",
            "  29   64    0    0\n",
            "  30   64    0    0\n",
            "  31   64    0    0\n",
            "  32   64    0    0\n",
            "  33   64    0    0\n",
            "  34   64    0    0\n",
            "  35   64    0    0\n",
            "  36   64    0    0\n",
            "  37   64    0    0\n",
            "  38   64    0    0\n",
            "  39   64    0    0\n",
            "  40   64    0    0\n",
            "  41   64    0    0\n",
            "  42   64    0    0\n",
            "  43   64    0    0\n",
            "  44   64    0    0\n",
            "  45   64    0    0\n",
            "  46   64    0    0\n",
            "  47   64    0    0\n",
            "  48   64    0    0\n",
            "  49   64    0    0\n",
            "  50   64    0    0\n",
            "  51   64    0    0\n",
            "  52   64    0    0\n",
            "  53   64    0    0\n",
            "  54   64    0    0\n",
            "  55   64    0    0\n",
            "  56   64    0    0\n",
            "  57   64    0    0\n",
            "  58   64    0    0\n",
            "  59   64    0    0\n",
            "  60   64    0    0\n",
            "  61   64    0    0\n",
            "  62   64    0    0\n",
            "  63   64    0    0\n",
            "  64   64    0    0\n",
            "  65   64    0    0\n",
            "  66   64    0    0\n",
            "  67   64    0    0\n",
            "  68   64    0    0\n",
            "  69   64    0    0\n",
            "  70   64    0    0\n",
            "  71   64    0    0\n",
            "  72   64    0    0\n",
            "  73   64    0    0\n",
            "  74   64    0    0\n",
            "  75   64    0    0\n",
            "  76   64    0    0\n",
            "  77   64    0    0\n",
            "  78   64    0    0\n",
            "  79   64    0    0\n",
            "  80   64    0    0\n",
            "  81   64    0    0\n",
            "  82   64    0    0\n",
            "  83   64    0    0\n",
            "  84   64    0    0\n",
            "  85   64    0    0\n",
            "  86   64    0    0\n",
            "  87   64    0    0\n",
            "  88   64    0    0\n",
            "  89   64    0    0\n",
            "  90   64    0    0\n",
            "  91   64    0    0\n",
            "  92   64    0    0\n",
            "  93   64    0    0\n",
            "  94   64    0    0\n",
            "  95   64    0    0\n",
            "  96   64    0    0\n",
            "  97   64    0    0\n",
            "  98   64    0    0\n",
            "  99   64    0    0\n",
            " 100   64    0    0\n",
            " 101   64    0    0\n",
            " 102   64    0    0\n",
            " 103   64    0    0\n",
            " 104   64    0    0\n",
            " 105   64    0    0\n",
            " 106   64    0    0\n",
            " 107   64    0    0\n",
            " 108   64    0    0\n",
            " 109   64    0    0\n",
            " 110   64    0    0\n",
            " 111   64    0    0\n",
            " 112   64    0    0\n",
            " 113   64    0    0\n",
            " 114   64    0    0\n",
            " 115   64    0    0\n",
            " 116   64    0    0\n",
            " 117   64    0    0\n",
            " 118   64    0    0\n",
            " 119   64    0    0\n",
            " 120   64    0    0\n"
          ]
        }
      ]
    }
  ]
}